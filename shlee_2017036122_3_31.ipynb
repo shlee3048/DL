{
 "cells": [
  {
   "cell_type": "code",
   "execution_count": 1,
   "id": "d6a8b059",
   "metadata": {},
   "outputs": [],
   "source": [
    "class Person:\n",
    "    pass"
   ]
  },
  {
   "cell_type": "code",
   "execution_count": 2,
   "id": "d4990257",
   "metadata": {},
   "outputs": [
    {
     "name": "stdout",
     "output_type": "stream",
     "text": [
      "<class '__main__.Person'>\n",
      "<__main__.Person object at 0x000002710625CD30>\n"
     ]
    }
   ],
   "source": [
    "kang = Person()\n",
    "print(type(kang))\n",
    "print(kang)"
   ]
  },
  {
   "cell_type": "code",
   "execution_count": 3,
   "id": "0dee9554",
   "metadata": {},
   "outputs": [
    {
     "name": "stdout",
     "output_type": "stream",
     "text": [
      "<class 'list'>\n",
      "[]\n"
     ]
    }
   ],
   "source": [
    "a = list()\n",
    "print(type(a))\n",
    "print(a)"
   ]
  },
  {
   "cell_type": "code",
   "execution_count": 6,
   "id": "60cd68d1",
   "metadata": {},
   "outputs": [
    {
     "name": "stdout",
     "output_type": "stream",
     "text": [
      "<__main__.Person object at 0x000002710625C2B0> is generated\n",
      "<__main__.Person object at 0x000002710625C3A0> is generated\n"
     ]
    }
   ],
   "source": [
    "class Person:\n",
    "    def __init__(self): # __init__()는 컨스트럭터(Constructor)로 불리우며 초기화를 담당, 첫 인자는 무조건 self임\n",
    "        print(self, \"is generated\")\n",
    "        \n",
    "p1 = Person() # 중요\n",
    "p2 = Person()"
   ]
  },
  {
   "cell_type": "code",
   "execution_count": 10,
   "id": "433c94e5",
   "metadata": {},
   "outputs": [
    {
     "name": "stdout",
     "output_type": "stream",
     "text": [
      "<__main__.Person object at 0x00000271062AACD0> is generated\n",
      "<__main__.Person object at 0x00000271062AAC10> is generated\n",
      "<__main__.Person object at 0x00000271062AA430> is generated\n",
      "Bob 30 trip\n",
      "Kang 52 singing\n",
      "Kim 10 singing\n"
     ]
    }
   ],
   "source": [
    "class Person:\n",
    "    def __init__(self, name, age = 10):\n",
    "        print(self, \"is generated\")\n",
    "        self.name = name\n",
    "        self.age = age\n",
    "        self.hobby = 'singing'\n",
    "        \n",
    "p1 = Person('Bob', 30)\n",
    "p2 = Person('Kang', 52)\n",
    "p3 = Person('Kim') # age가 없음\n",
    "p1.hobby = 'trip'\n",
    "print(p1.name, p1.age, p1.hobby)\n",
    "print(p2.name, p2.age, p2.hobby) \n",
    "print(p3.name, p3.age, p3.hobby)"
   ]
  },
  {
   "cell_type": "code",
   "execution_count": 12,
   "id": "50eb1f80",
   "metadata": {},
   "outputs": [
    {
     "name": "stdout",
     "output_type": "stream",
     "text": [
      "value =  0\n",
      "value =  10\n",
      "value =  2\n",
      "value =  11\n"
     ]
    }
   ],
   "source": [
    "class Counter:\n",
    "    def __init__(self, num):\n",
    "        self.num = num;\n",
    "    \n",
    "    def Increment(self):\n",
    "        self.num += 1\n",
    "        \n",
    "    def Reset(self):\n",
    "        self.num = 0\n",
    "    \n",
    "    def InputValue(self, num):\n",
    "        self.num = num\n",
    "    \n",
    "    def PrintCurrentValue(self):\n",
    "        print('value = ', self.num) # 중요\n",
    "        \n",
    "c1 = Counter(0)\n",
    "c2 = Counter(10)\n",
    "c1.PrintCurrentValue()\n",
    "c2.PrintCurrentValue()\n",
    "\n",
    "c1.Increment()\n",
    "c1.Increment()\n",
    "c2.Increment()\n",
    "\n",
    "c1.PrintCurrentValue()\n",
    "c2.PrintCurrentValue()"
   ]
  },
  {
   "cell_type": "code",
   "execution_count": 15,
   "id": "ac9ec9bc",
   "metadata": {},
   "outputs": [
    {
     "name": "stdout",
     "output_type": "stream",
     "text": [
      "30\n",
      "-10\n"
     ]
    }
   ],
   "source": [
    "class Computer:\n",
    "    def add(self, x, y):\n",
    "        return(x+y)\n",
    "    def sub(self, x, y):\n",
    "        return(x-y)\n",
    "    \n",
    "c1 = Computer()\n",
    "print(c1.add(10, 20))\n",
    "print(c1.sub(10, 20))"
   ]
  },
  {
   "cell_type": "code",
   "execution_count": 18,
   "id": "b6d41739",
   "metadata": {},
   "outputs": [
    {
     "name": "stdout",
     "output_type": "stream",
     "text": [
      "30\n",
      "-10\n"
     ]
    }
   ],
   "source": [
    "# 인스턴스화할 때 static method에 대해서는 bound-method를 생성해줄 필요가 없어 \n",
    "# 메모리 사용량을 줄일 수 있다.\n",
    "# 중요\n",
    "class Computer:\n",
    "    @staticmethod # @staticmethod는 데코레이터를 사용한 정적 메소드이다.\n",
    "    def add(x, y): # 인스턴스 메소드와는 다르게 self 인자를 받지 않는다\n",
    "        return(x+y)\n",
    "    @staticmethod\n",
    "    def sub(x, y):\n",
    "        return(x-y)\n",
    "    \n",
    "print(Computer.add(10, 20)) # 클래스 이름으로 직접 메소드를 호출할 수 있다.\n",
    "print(Computer.sub(10, 20))"
   ]
  },
  {
   "cell_type": "code",
   "execution_count": 19,
   "id": "92d5437c",
   "metadata": {},
   "outputs": [
    {
     "name": "stdout",
     "output_type": "stream",
     "text": [
      "Mathematics\n",
      "Mark\n"
     ]
    }
   ],
   "source": [
    "class Dept:\n",
    "    def __init__(self, dname):\n",
    "        self.dname = dname\n",
    "    class Prof: # Nested class(중첩 클래스)는  클래스 내에 정의된 클래스이다.\n",
    "        def __init__(self, pname):\n",
    "            self.pname = pname\n",
    "            \n",
    "math = Dept(\"Mathematics\")\n",
    "mathprof = Dept.Prof(\"Mark\")\n",
    "\n",
    "print(math.dname)\n",
    "print(mathprof.pname)"
   ]
  },
  {
   "cell_type": "code",
   "execution_count": 21,
   "id": "1dc14e91",
   "metadata": {},
   "outputs": [
    {
     "name": "stdout",
     "output_type": "stream",
     "text": [
      "Mathematics From Inner Class\n"
     ]
    }
   ],
   "source": [
    "# 중요\n",
    "class Dept:\n",
    "    def __init__(self, dname):\n",
    "        self.dname = dname\n",
    "        self.inner = self.Prof()\n",
    "    def outer_disp(self):\n",
    "        self.inner.inner_disp(self.dname)\n",
    "    class Prof:\n",
    "        def inner_disp(self, details):\n",
    "            print(details, \"From Inner Class\")\n",
    "            \n",
    "math = Dept(\"Mathematics\")\n",
    "math.outer_disp()"
   ]
  },
  {
   "cell_type": "code",
   "execution_count": 27,
   "id": "53687711",
   "metadata": {},
   "outputs": [
    {
     "name": "stdout",
     "output_type": "stream",
     "text": [
      "Mathematics Mark UK\n"
     ]
    }
   ],
   "source": [
    "# 다중 중첩 클래스\n",
    "class Dept:\n",
    "    def __init__(self, dname):\n",
    "        self.dname = dname\n",
    "    class Prof:\n",
    "        def __init__(self, pname):\n",
    "            self.pname = pname\n",
    "        class Country:\n",
    "            def __init__(self, cname):\n",
    "                self.cname = cname\n",
    "\n",
    "math = Dept(\"Mathematics\")\n",
    "mathprof = Dept.Prof(\"Mark\")\n",
    "country = Dept.Prof.Country(\"UK\")\n",
    "\n",
    "print(math.dname, mathprof.pname, country.cname)"
   ]
  },
  {
   "cell_type": "code",
   "execution_count": 30,
   "id": "9a914da9",
   "metadata": {},
   "outputs": [
    {
     "name": "stdout",
     "output_type": "stream",
     "text": [
      "Bob는 BBQ를 먹는다\n",
      "Bob는 8동안 잔다\n",
      "Bob는 10동안 일한다\n"
     ]
    }
   ],
   "source": [
    "class Person:\n",
    "    def __init__(self, name, age):\n",
    "        self.name = name\n",
    "        self.age = age\n",
    "    def Eat(self, food):\n",
    "        print('{}는 {}를 먹는다'.format(self.name, food))\n",
    "    def Sleep(self, hour):\n",
    "        print('{}는 {}동안 잔다'.format(self.name, hour))\n",
    "    def Work(self, hour):\n",
    "        print('{}는 {}동안 일한다'.format(self.name, hour))\n",
    "        \n",
    "class Student:\n",
    "    pass\n",
    "\n",
    "class Employee:\n",
    "    pass\n",
    "\n",
    "bob = Person('Bob', 30)\n",
    "bob.Eat('BBQ')\n",
    "bob.Sleep(8)\n",
    "bob.Work(10)"
   ]
  },
  {
   "cell_type": "code",
   "execution_count": 37,
   "id": "7457eed2",
   "metadata": {},
   "outputs": [
    {
     "name": "stdout",
     "output_type": "stream",
     "text": [
      "Bob는 BBQ를 먹는다\n",
      "Bob는 8동안 잔다\n",
      "Bob는 10동안 일한다\n"
     ]
    }
   ],
   "source": [
    "class Student(Person):\n",
    "    def __init__(self, name, age):\n",
    "        self.name = name\n",
    "        self.age = age\n",
    "\n",
    "class Employee(Person):\n",
    "    def __init__(self, name, age):\n",
    "        self.name = name\n",
    "        self.age = age\n",
    "        \n",
    "bob = Student('Bob', 30) # Student 클래스에 Eat(), Sleep(), Work() 메소드가 없지만\n",
    "bob.Eat('BBQ')           # 부모 클래스인 Person에 상속되어 있음\n",
    "bob.Sleep(8)\n",
    "bob.Work(10)"
   ]
  },
  {
   "cell_type": "code",
   "execution_count": 39,
   "id": "635b7710",
   "metadata": {},
   "outputs": [
    {
     "name": "stdout",
     "output_type": "stream",
     "text": [
      "Bob는 BBQ를 먹는다\n",
      "Bob는 8동안 잔다\n",
      "Bob는 10동안 공부한다\n"
     ]
    }
   ],
   "source": [
    "# 중요\n",
    "class Student(Person):\n",
    "    def __init__(self, name, age):\n",
    "        self.name = name\n",
    "        self.age = age\n",
    "    def Work(self, hour): # 메소드 overriding\n",
    "        print('{}는 {}동안 공부한다'.format(self.name, hour))\n",
    "        \n",
    "class Employee(Person):\n",
    "    def __init__(self, name, age):\n",
    "        self.name = name\n",
    "        self.age = age\n",
    "        \n",
    "bob = Student('Bob', 30) \n",
    "bob.Eat('BBQ')           \n",
    "bob.Sleep(8)\n",
    "bob.Work(10)"
   ]
  },
  {
   "cell_type": "code",
   "execution_count": 41,
   "id": "3c2d4671",
   "metadata": {},
   "outputs": [
    {
     "name": "stdout",
     "output_type": "stream",
     "text": [
      "Bob는 BBQ를 먹는다\n",
      "Bob는 8동안 잔다\n",
      "Bob는 10동안 일한다\n",
      "Bob는 10동안 공부한다\n"
     ]
    }
   ],
   "source": [
    "class Student(Person):\n",
    "    def __init__(self, name, age):\n",
    "        self.name = name\n",
    "        self.age = age\n",
    "    def Work(self, hour):\n",
    "        super().Work(hour) # 부모 클래스인 Person의 Work() 메소드 상속\n",
    "        print('{}는 {}동안 공부한다'.format(self.name, hour))\n",
    "        \n",
    "class Employee(Person):\n",
    "    def __init__(self, name, age):\n",
    "        self.name = name\n",
    "        self.age = age\n",
    "        \n",
    "bob = Student('Bob', 30) \n",
    "bob.Eat('BBQ')           \n",
    "bob.Sleep(8)\n",
    "bob.Work(10)"
   ]
  },
  {
   "cell_type": "code",
   "execution_count": 43,
   "id": "c079c8c3",
   "metadata": {},
   "outputs": [
    {
     "name": "stdout",
     "output_type": "stream",
     "text": [
      "(3, 5)\n",
      "(1, -1)\n",
      "<__main__.Point2D object at 0x0000027108AC8F40>\n",
      "<__main__.Point2D object at 0x0000027108AC8970>\n"
     ]
    }
   ],
   "source": [
    "class Point2D:\n",
    "    def __init__(self, x, y):\n",
    "        self.x = x\n",
    "        self.y = y\n",
    "    def PrintPt(self):\n",
    "        print('({}, {})'.format(self.x, self.y))\n",
    "        \n",
    "p1 = Point2D(3, 5)\n",
    "p2 = Point2D(1, -1)\n",
    "\n",
    "\n",
    "p1.PrintPt()\n",
    "p2.PrintPt()\n",
    "\n",
    "print(p1)\n",
    "print(p2)"
   ]
  },
  {
   "cell_type": "code",
   "execution_count": 47,
   "id": "ad693825",
   "metadata": {},
   "outputs": [
    {
     "name": "stdout",
     "output_type": "stream",
     "text": [
      "(3, 5)\n",
      "(1, -1)\n"
     ]
    }
   ],
   "source": [
    "class Point2D:\n",
    "    def __init__(self, x, y):\n",
    "        self.x = x\n",
    "        self.y = y\n",
    "    def __str__(self): # 중요\n",
    "        return '({}, {})'.format(self.x, self.y)\n",
    "        \n",
    "p1 = Point2D(3, 5)\n",
    "p2 = Point2D(1, -1)\n",
    "\n",
    "print(p1)\n",
    "print(p2)"
   ]
  },
  {
   "cell_type": "code",
   "execution_count": 48,
   "id": "64505111",
   "metadata": {},
   "outputs": [
    {
     "name": "stdout",
     "output_type": "stream",
     "text": [
      "(3, 5)\n",
      "(1, -1)\n",
      "(4, 4)\n"
     ]
    }
   ],
   "source": [
    "class Point2D:\n",
    "    def __init__(self, x, y):\n",
    "        self.x = x\n",
    "        self.y = y\n",
    "    def Add(self, pt):\n",
    "        new_x = self.x + pt.x\n",
    "        new_y = self.y + pt.y\n",
    "        return Point2D(new_x, new_y)\n",
    "    def __str__(self):\n",
    "        return '({}, {})'.format(self.x, self.y)\n",
    "        \n",
    "p1 = Point2D(3, 5)\n",
    "p2 = Point2D(1, -1)\n",
    "\n",
    "p3 = p1.Add(p2)\n",
    "\n",
    "print(p1)\n",
    "print(p2)\n",
    "print(p3)"
   ]
  },
  {
   "cell_type": "code",
   "execution_count": 50,
   "id": "72ccc565",
   "metadata": {},
   "outputs": [
    {
     "name": "stdout",
     "output_type": "stream",
     "text": [
      "(3, 5)\n",
      "(1, -1)\n",
      "(4, 4)\n"
     ]
    }
   ],
   "source": [
    "class Point2D:\n",
    "    def __init__(self, x, y):\n",
    "        self.x = x\n",
    "        self.y = y\n",
    "    def __add__(self, pt): # 중요\n",
    "        new_x = self.x + pt.x\n",
    "        new_y = self.y + pt.y\n",
    "        return Point2D(new_x, new_y)\n",
    "    def __str__(self):\n",
    "        return '({}, {})'.format(self.x, self.y)\n",
    "        \n",
    "p1 = Point2D(3, 5)\n",
    "p2 = Point2D(1, -1)\n",
    "\n",
    "p3 = p1 + p2 # 중요\n",
    "\n",
    "print(p1)\n",
    "print(p2)\n",
    "print(p3)"
   ]
  },
  {
   "cell_type": "code",
   "execution_count": 51,
   "id": "dc03be00",
   "metadata": {},
   "outputs": [
    {
     "name": "stdout",
     "output_type": "stream",
     "text": [
      "(3, 5)\n",
      "(1, -1)\n",
      "(4, 4)\n",
      "(2, 6)\n"
     ]
    }
   ],
   "source": [
    "class Point2D:\n",
    "    def __init__(self, x, y):\n",
    "        self.x = x\n",
    "        self.y = y\n",
    "    def __add__(self, pt):\n",
    "        new_x = self.x + pt.x\n",
    "        new_y = self.y + pt.y\n",
    "        return Point2D(new_x, new_y)\n",
    "    def __sub__(self, pt):\n",
    "        new_x = self.x - pt.x\n",
    "        new_y = self.y - pt.y\n",
    "        return Point2D(new_x, new_y)    \n",
    "    def __str__(self):\n",
    "        return '({}, {})'.format(self.x, self.y)\n",
    "        \n",
    "p1 = Point2D(3, 5)\n",
    "p2 = Point2D(1, -1)\n",
    "\n",
    "p3 = p1 + p2\n",
    "p4 = p1 - p2\n",
    "\n",
    "print(p1)\n",
    "print(p2)\n",
    "print(p3)\n",
    "print(p4)"
   ]
  },
  {
   "cell_type": "code",
   "execution_count": 53,
   "id": "d526b3f2",
   "metadata": {},
   "outputs": [
    {
     "name": "stdout",
     "output_type": "stream",
     "text": [
      "1+j2,  -3+j3,  -2+j5,  4-j1\n"
     ]
    }
   ],
   "source": [
    "class ComplexNumber:\n",
    "    def __init__(self, real, img):\n",
    "        self.real = real\n",
    "        self.img = img\n",
    "    def __str__(self):\n",
    "        if self.img>=0:\n",
    "            return '{}+j{}'.format(self.real, self.img)\n",
    "        else :\n",
    "            return '{}-j{}'.format(self.real, abs(self.img))\n",
    "    \n",
    "    def __add__(self, cn):\n",
    "        return ComplexNumber(self.real+cn.real, self.img+cn.img)\n",
    "    \n",
    "    def __sub__(self, cn):\n",
    "        return ComplexNumber(self.real-cn.real, self.img-cn.img)\n",
    "    \n",
    "a = ComplexNumber(1, 2)\n",
    "b = ComplexNumber(-3, 3)\n",
    "c = a + b\n",
    "d = a -b\n",
    "print(a, b, c, d, sep=',  ')"
   ]
  },
  {
   "cell_type": "code",
   "execution_count": 60,
   "id": "30a2ac0b",
   "metadata": {},
   "outputs": [
    {
     "name": "stdout",
     "output_type": "stream",
     "text": [
      "1+j2,  -3+j3,  -2+j5,  4-j1,  -9-j3,  False,  True,  2.23606797749979\n"
     ]
    }
   ],
   "source": [
    "# 중요\n",
    "\n",
    "import math\n",
    "\n",
    "class ComplexNumber:\n",
    "    def __init__(self, real, img):\n",
    "        self.real = real\n",
    "        self.img = img\n",
    "        \n",
    "    def __str__(self):\n",
    "        if self.img>=0:\n",
    "            return '{}+j{}'.format(self.real, self.img)\n",
    "        else :\n",
    "            return '{}-j{}'.format(self.real, abs(self.img))\n",
    "        \n",
    "    def __add__(self, cn):\n",
    "        return ComplexNumber(self.real+cn.real, self.img+cn.img)\n",
    "    \n",
    "    def __sub__(self, cn):\n",
    "        return ComplexNumber(self.real-cn.real, self.img-cn.img)\n",
    "    \n",
    "    def __mul__(self, x):\n",
    "        if type(x) == int:\n",
    "            return ComplexNumber(self.real+x, self.img+x)\n",
    "        elif type(x) == ComplexNumber:\n",
    "            return ComplexNumber(self.real*x.real - self.img*x.img, self.img*x.real + self.real*x.img)\n",
    "        else:\n",
    "            print('{} type is not allowed input type'.format(type(x)))\n",
    "            \n",
    "    def __eq__(self, cn): # equal operator overriding\n",
    "        return self.real == cn.real and self.img == cn.img\n",
    "    \n",
    "    def __ne__(self, cn): # not equal operator overriding\n",
    "        return self.real != cn.real or self.img != cn.img\n",
    "    \n",
    "    def __abs__(self): # abs operator overriding\n",
    "        return math.sqrt(self.real**2 + self.img**2)\n",
    "        \n",
    "a = ComplexNumber(1, 2)\n",
    "b = ComplexNumber(-3, 3)\n",
    "c = a + b\n",
    "d = a - b\n",
    "e = a * b\n",
    "f = (a == b)\n",
    "g = (a != b)\n",
    "h = abs(a)\n",
    "print(a, b, c, d, e, f, g ,h, sep=',  ')"
   ]
  },
  {
   "cell_type": "code",
   "execution_count": null,
   "id": "4c4c9b49",
   "metadata": {},
   "outputs": [],
   "source": []
  }
 ],
 "metadata": {
  "kernelspec": {
   "display_name": "Python 3 (ipykernel)",
   "language": "python",
   "name": "python3"
  },
  "language_info": {
   "codemirror_mode": {
    "name": "ipython",
    "version": 3
   },
   "file_extension": ".py",
   "mimetype": "text/x-python",
   "name": "python",
   "nbconvert_exporter": "python",
   "pygments_lexer": "ipython3",
   "version": "3.9.16"
  }
 },
 "nbformat": 4,
 "nbformat_minor": 5
}

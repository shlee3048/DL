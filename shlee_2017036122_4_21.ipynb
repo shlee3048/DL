{
 "cells": [
  {
   "cell_type": "code",
   "execution_count": 31,
   "id": "511d0a1e",
   "metadata": {},
   "outputs": [],
   "source": [
    "def actf(x):\n",
    "    return 1.0/(1.0+np.exp(-x))"
   ]
  },
  {
   "cell_type": "code",
   "execution_count": 32,
   "id": "1fd4b2d0",
   "metadata": {},
   "outputs": [],
   "source": [
    "def actf_prime(x):\n",
    "    return x*(1.0-x)"
   ]
  },
  {
   "cell_type": "code",
   "execution_count": 33,
   "id": "a3a2e432",
   "metadata": {},
   "outputs": [],
   "source": [
    "def actbin(x):\n",
    "    x[x>=0.5] = 1\n",
    "    x[x<0.5] = 0\n",
    "    return x"
   ]
  },
  {
   "cell_type": "code",
   "execution_count": 34,
   "id": "e3779f58",
   "metadata": {},
   "outputs": [],
   "source": [
    "inputs, hiddens, outputs = 2, 2, 1\n",
    "learning_rate = 0.5"
   ]
  },
  {
   "cell_type": "code",
   "execution_count": 35,
   "id": "307dd98b",
   "metadata": {},
   "outputs": [],
   "source": [
    "import numpy as np\n",
    "X = np.array([[0,0], [0, 1], [1, 0], [1, 1]])\n",
    "T = np.array([[0], [1], [1], [0]])"
   ]
  },
  {
   "cell_type": "code",
   "execution_count": 36,
   "id": "02a054c0",
   "metadata": {},
   "outputs": [],
   "source": [
    "W1 = 2*np.random.randn(inputs, hiddens) - 1.0\n",
    "W2 = 2*np.random.randn(hiddens, outputs) - 1.0\n",
    "b1 = np.zeros(hiddens)\n",
    "b2 = np.zeros(outputs)"
   ]
  },
  {
   "cell_type": "code",
   "execution_count": 37,
   "id": "4a86f487",
   "metadata": {},
   "outputs": [
    {
     "data": {
      "text/plain": [
       "(array([[-0.61501102, -4.03377414],\n",
       "        [ 0.38411785, -2.83484789]]),\n",
       " array([[-2.65208778],\n",
       "        [ 0.83535851]]),\n",
       " array([0., 0.]),\n",
       " array([0.]))"
      ]
     },
     "execution_count": 37,
     "metadata": {},
     "output_type": "execute_result"
    }
   ],
   "source": [
    "W1, W2, b1, b2"
   ]
  },
  {
   "cell_type": "code",
   "execution_count": 38,
   "id": "793b8741",
   "metadata": {},
   "outputs": [],
   "source": [
    "def predict(X, W1, W2, b1, b2):\n",
    "    layer0 = X\n",
    "    z1 = np.dot(layer0, W1) + b1\n",
    "    layer1 = actf(z1)\n",
    "    z2 = np.dot(layer1, W2) + b2\n",
    "    layer2 = actf(z2)\n",
    "    return layer0, layer1, layer2"
   ]
  },
  {
   "cell_type": "code",
   "execution_count": 39,
   "id": "c5572e63",
   "metadata": {},
   "outputs": [],
   "source": [
    "def fit(X, W1, W2, b1, b2, T, it_max=60000):\n",
    "    out = list()\n",
    "    for it in range(it_max):\n",
    "        layer0, layer1, layer2 = predict(X, W1, W2, b1, b2)\n",
    "        layer2_error = layer2 - T\n",
    "        \n",
    "        out.append((layer2_error**2).mean())\n",
    "        \n",
    "        layer2_delta = layer2_error * actf_prime(layer2) # layer2=h_sum\n",
    "        layer1_error = np.dot(layer2_delta, W2.T) # layer1=x_sum\n",
    "        layer1_delta = layer1_error * actf_prime(layer1)\n",
    "        \n",
    "        W2 +=  -learning_rate * np.dot(layer1.T, layer2_delta)/4.0\n",
    "        W1 +=  -learning_rate * np.dot(layer0.T, layer1_delta)/4.0\n",
    "        b2 +=  -learning_rate * np.sum(layer2_delta, axis=0)/4.0\n",
    "        b1 +=  -learning_rate * np.sum(layer1_delta, axis=0)/4.0\n",
    "        \n",
    "    return W1, W2, b1, b2, out"
   ]
  },
  {
   "cell_type": "code",
   "execution_count": 40,
   "id": "7760cc24",
   "metadata": {},
   "outputs": [],
   "source": [
    "W1, W2, b1, b2, out = fit(X, W1, W2, b1, b2, T, 10000)"
   ]
  },
  {
   "cell_type": "code",
   "execution_count": 41,
   "id": "2126b350",
   "metadata": {},
   "outputs": [
    {
     "name": "stdout",
     "output_type": "stream",
     "text": [
      "[[0.]\n",
      " [1.]\n",
      " [1.]\n",
      " [1.]]\n"
     ]
    }
   ],
   "source": [
    "_,_, layer2 = predict(X, W1, W2, b1, b2)\n",
    "print(actbin(layer2))"
   ]
  },
  {
   "cell_type": "code",
   "execution_count": 42,
   "id": "c4923aaf",
   "metadata": {},
   "outputs": [
    {
     "data": {
      "image/png": "[encoded data removed]",
      "text/plain": [
       "<Figure size 600x300 with 1 Axes>"
      ]
     },
     "metadata": {},
     "output_type": "display_data"
    }
   ],
   "source": [
    "import matplotlib.pyplot as plt\n",
    "\n",
    "npout = np.array(out)\n",
    "plt.figure(figsize=(6,3))\n",
    "plt.plot(npout)\n",
    "plt.show()"
   ]
  },
  {
   "cell_type": "code",
   "execution_count": null,
   "id": "8e6ebe00",
   "metadata": {},
   "outputs": [],
   "source": []
  },
  {
   "cell_type": "code",
   "execution_count": null,
   "id": "2f7f0ed9",
   "metadata": {},
   "outputs": [],
   "source": []
  }
 ],
 "metadata": {
  "kernelspec": {
   "display_name": "Python 3 (ipykernel)",
   "language": "python",
   "name": "python3"
  },
  "language_info": {
   "codemirror_mode": {
    "name": "ipython",
    "version": 3
   },
   "file_extension": ".py",
   "mimetype": "text/x-python",
   "name": "python",
   "nbconvert_exporter": "python",
   "pygments_lexer": "ipython3",
   "version": "3.9.16"
  }
 },
 "nbformat": 4,
 "nbformat_minor": 5
}

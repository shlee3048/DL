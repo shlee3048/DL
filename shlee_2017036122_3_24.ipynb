{
 "cells": [
  {
   "cell_type": "code",
   "execution_count": 1,
   "id": "270fb9b6",
   "metadata": {},
   "outputs": [],
   "source": [
    "def add2(x, y):\n",
    "    n = x + y\n",
    "    return n"
   ]
  },
  {
   "cell_type": "code",
   "execution_count": 2,
   "id": "1b769782",
   "metadata": {},
   "outputs": [
    {
     "name": "stdout",
     "output_type": "stream",
     "text": [
      "70\n"
     ]
    }
   ],
   "source": [
    "hap = add2(30, 40)\n",
    "print(hap)"
   ]
  },
  {
   "cell_type": "code",
   "execution_count": 4,
   "id": "4409b719",
   "metadata": {},
   "outputs": [],
   "source": [
    "def add3(x, y, z=5):\n",
    "    n = x + y + z\n",
    "    return n"
   ]
  },
  {
   "cell_type": "code",
   "execution_count": 7,
   "id": "890af10d",
   "metadata": {},
   "outputs": [
    {
     "name": "stdout",
     "output_type": "stream",
     "text": [
      "305\n",
      "600\n"
     ]
    }
   ],
   "source": [
    "a = add3(100, 200)\n",
    "b = add3(100, 200, 300)\n",
    "print(a)   \n",
    "print(b)"
   ]
  },
  {
   "cell_type": "markdown",
   "id": "17c1143a",
   "metadata": {},
   "source": [
    "## Correct expression : set from right to left<br/>\n",
    " def test(x, y, z=1)<br/>\n",
    " def test(x, y=2, z=1)<br/>\n",
    " def test(x=3, y=2, z=1)<br/>\n",
    "<br/>\n",
    "## Incorrect expression<br/>\n",
    " def test(x=3, y, z)<br/>\n",
    " def test(x=3, y, z=1)<br/>\n",
    " def test(x, y=2, z)<br/>\n",
    " def test(x=3, y=2, z)<br/>"
   ]
  },
  {
   "cell_type": "code",
   "execution_count": 8,
   "id": "6a183d1a",
   "metadata": {},
   "outputs": [
    {
     "name": "stdout",
     "output_type": "stream",
     "text": [
      "200\n",
      "99\n",
      "100\n"
     ]
    },
    {
     "data": {
      "text/plain": [
       "0"
      ]
     },
     "execution_count": 8,
     "metadata": {},
     "output_type": "execute_result"
    }
   ],
   "source": [
    "def test(x, y, z=1):\n",
    "    print(x)\n",
    "    print(y)\n",
    "    print(z)\n",
    "    return 0\n",
    "\n",
    "test(z=100, x=200, y=99)"
   ]
  },
  {
   "cell_type": "code",
   "execution_count": 11,
   "id": "d78190a8",
   "metadata": {},
   "outputs": [
    {
     "name": "stdout",
     "output_type": "stream",
     "text": [
      "1\n",
      "2\n",
      "1\n",
      "None\n"
     ]
    }
   ],
   "source": [
    "def testreturn(x, y, z=1):\n",
    "    print(x)\n",
    "    print(y)\n",
    "    print(z)\n",
    "    return\n",
    "\n",
    "a = testreturn(1, 2) \n",
    "print(a) # 중요"
   ]
  },
  {
   "cell_type": "code",
   "execution_count": 12,
   "id": "9a5ea115",
   "metadata": {},
   "outputs": [
    {
     "name": "stdout",
     "output_type": "stream",
     "text": [
      "1\n",
      "2\n",
      "1\n",
      "None\n"
     ]
    }
   ],
   "source": [
    "def testreturn(x, y, z=1):\n",
    "    print(x)\n",
    "    print(y)\n",
    "    print(z)\n",
    "\n",
    "a = testreturn(1, 2) \n",
    "print(a) # 중요"
   ]
  },
  {
   "cell_type": "code",
   "execution_count": 14,
   "id": "89e7ff29",
   "metadata": {},
   "outputs": [
    {
     "name": "stdout",
     "output_type": "stream",
     "text": [
      "(9, 20)\n",
      "<class 'tuple'>\n",
      "9 20\n",
      "<class 'int'> <class 'int'>\n"
     ]
    }
   ],
   "source": [
    "def add_mul(x ,y):\n",
    "    s = x + y\n",
    "    m = x  * y\n",
    "    return s, m\n",
    "\n",
    "a = add_mul(4, 5)\n",
    "print(a)\n",
    "print(type(a))\n",
    "\n",
    "b, c = add_mul(4, 5)\n",
    "print(b, c)\n",
    "print(type(b), type(c)) # 중요"
   ]
  },
  {
   "cell_type": "code",
   "execution_count": 15,
   "id": "3297c8e2",
   "metadata": {},
   "outputs": [
    {
     "name": "stdout",
     "output_type": "stream",
     "text": [
      "30 40\n",
      "10 20\n"
     ]
    }
   ],
   "source": [
    "num1 = 10\n",
    "num2 = 20\n",
    "\n",
    "def add2(num1, num2):\n",
    "    print(num1, num2)\n",
    "    return(num1 + num2)\n",
    "\n",
    "# add2(num1 = 30, num2 =40)도 동일\n",
    "add2(30, 40)\n",
    "\n",
    "print(num1, num2)"
   ]
  },
  {
   "cell_type": "code",
   "execution_count": 16,
   "id": "a71189f1",
   "metadata": {},
   "outputs": [
    {
     "name": "stdout",
     "output_type": "stream",
     "text": [
      "30 40\n",
      "10 20\n"
     ]
    }
   ],
   "source": [
    "num1 = 10\n",
    "num2 = 20\n",
    "\n",
    "def add2(in1, in2):\n",
    "    print(in1, in2)\n",
    "    return(in1 + in2)\n",
    "\n",
    "add2(30, 40)\n",
    "\n",
    "print(num1, num2)"
   ]
  },
  {
   "cell_type": "code",
   "execution_count": 20,
   "id": "28473f32",
   "metadata": {},
   "outputs": [
    {
     "name": "stdout",
     "output_type": "stream",
     "text": [
      "<class 'tuple'>\n",
      "<class 'tuple'>\n",
      "1\n",
      "<class 'tuple'>\n",
      "1\n",
      "2\n",
      "3\n"
     ]
    }
   ],
   "source": [
    "def test(*args): # * 는 임의의 파라미터를 따르므로 개수를 미리 지정안함(없어도 상관X)\n",
    "    print(type(args))\n",
    "    for item in args:\n",
    "        print(item)\n",
    "        \n",
    "test()  # 중요\n",
    "test(1)\n",
    "test(1, 2, 3)"
   ]
  },
  {
   "cell_type": "code",
   "execution_count": 21,
   "id": "ad0ca8e3",
   "metadata": {},
   "outputs": [
    {
     "name": "stdout",
     "output_type": "stream",
     "text": [
      "<class 'dict'>\n",
      "a 1\n",
      "b 2\n",
      "c 3\n",
      "d 4\n",
      "name kang\n"
     ]
    }
   ],
   "source": [
    "def test2(**x): # ** 는 임의의 key-value형태의 파라미터를 따르므로 개수를 미리 지정안함(없어도 상관X)\n",
    "    print(type(x))\n",
    "    for key in x:\n",
    "        print(key, x[key])\n",
    "    return\n",
    "\n",
    "test2(a=1, b=2, c=3, d=4, name='kang')  # 중요"
   ]
  },
  {
   "cell_type": "code",
   "execution_count": 26,
   "id": "2b56ccbe",
   "metadata": {},
   "outputs": [
    {
     "name": "stdout",
     "output_type": "stream",
     "text": [
      "<class 'dict'>\n",
      "a 1\n",
      "b 2\n",
      "c 3\n",
      "d 4\n",
      "name kang\n"
     ]
    }
   ],
   "source": [
    "def test2(**x): # ** 는 임의의 key-value형태의 파라미터를 따르므로 개수를 미리 지정안함(없어도 상관X)\n",
    "    print(type(x))\n",
    "    for key, value in x.items(): # items(): (key, value) 쌍을 복사한 튜플을 return\n",
    "        print(key, value)\n",
    "    return\n",
    "\n",
    "test2(a=1, b=2, c=3, d=4, name='kang')  # 중요"
   ]
  },
  {
   "cell_type": "code",
   "execution_count": 27,
   "id": "79d93ebc",
   "metadata": {},
   "outputs": [
    {
     "name": "stdout",
     "output_type": "stream",
     "text": [
      "온도 : 20, 습도 : 90%, 강수확률 : 100%\n"
     ]
    }
   ],
   "source": [
    "a = \"온도 : {}, 습도 : {}%, 강수확률 : {}%\".format(20, 90, 100)\n",
    "print(a)"
   ]
  },
  {
   "cell_type": "code",
   "execution_count": 29,
   "id": "72554c51",
   "metadata": {},
   "outputs": [
    {
     "name": "stdout",
     "output_type": "stream",
     "text": [
      "온도 : 20, 습도 : 90%, 강수확률 : 100%\n"
     ]
    }
   ],
   "source": [
    "a = \"온도 : {temp}, 습도 : {humidity}%, 강수확률 : {rain}%\".format(rain=100, humidity=90, temp=20)\n",
    "print(a) # 중요"
   ]
  },
  {
   "cell_type": "markdown",
   "id": "6b98bfc2",
   "metadata": {},
   "source": [
    "## lambda function\n",
    " No function’s name, no ‘return’<br>\n",
    " Recommended in case of functionality being simple\n"
   ]
  },
  {
   "cell_type": "code",
   "execution_count": 32,
   "id": "49ea8019",
   "metadata": {},
   "outputs": [
    {
     "data": {
      "text/plain": [
       "25"
      ]
     },
     "execution_count": 32,
     "metadata": {},
     "output_type": "execute_result"
    }
   ],
   "source": [
    "def square(x):\n",
    "    return(x**2)\n",
    "\n",
    "square(5)"
   ]
  },
  {
   "cell_type": "code",
   "execution_count": 35,
   "id": "643406ca",
   "metadata": {},
   "outputs": [
    {
     "name": "stdout",
     "output_type": "stream",
     "text": [
      "25\n",
      "<class 'function'>\n"
     ]
    }
   ],
   "source": [
    "square2 = lambda x:x**2\n",
    "print(square2(5))\n",
    "print(type(square2))"
   ]
  },
  {
   "cell_type": "code",
   "execution_count": 36,
   "id": "a0e88fa2",
   "metadata": {},
   "outputs": [
    {
     "data": {
      "text/plain": [
       "3"
      ]
     },
     "execution_count": 36,
     "metadata": {},
     "output_type": "execute_result"
    }
   ],
   "source": [
    "add = lambda x,y : x+y\n",
    "add(1, 2)"
   ]
  },
  {
   "cell_type": "code",
   "execution_count": 29,
   "id": "24185353",
   "metadata": {},
   "outputs": [
    {
     "name": "stdout",
     "output_type": "stream",
     "text": [
      "['alexander', 'bob', 'charles', 'jane', 'teddy']\n"
     ]
    }
   ],
   "source": [
    "strings = ['bob', 'charles', 'alexander', 'teddy', 'jane']\n",
    "strings.sort() # 중요\n",
    "print(strings)"
   ]
  },
  {
   "cell_type": "code",
   "execution_count": 40,
   "id": "debecf62",
   "metadata": {},
   "outputs": [
    {
     "name": "stdout",
     "output_type": "stream",
     "text": [
      "['bob', 'jane', 'teddy', 'charles', 'alexander']\n"
     ]
    }
   ],
   "source": [
    "def str_len(s):\n",
    "    return len(s)\n",
    "\n",
    "strings = ['bob', 'charles', 'alexander', 'teddy', 'jane']\n",
    "strings.sort(key=str_len)\n",
    "print(strings)"
   ]
  },
  {
   "cell_type": "code",
   "execution_count": 30,
   "id": "957c07f0",
   "metadata": {},
   "outputs": [
    {
     "name": "stdout",
     "output_type": "stream",
     "text": [
      "['bob', 'jane', 'teddy', 'charles', 'alexander']\n"
     ]
    }
   ],
   "source": [
    "strings = ['bob', 'charles', 'alexander', 'teddy', 'jane']\n",
    "strings.sort(key=lambda s:len(s)) # 중요\n",
    "print(strings)"
   ]
  },
  {
   "cell_type": "code",
   "execution_count": 44,
   "id": "c7d83500",
   "metadata": {},
   "outputs": [
    {
     "name": "stdout",
     "output_type": "stream",
     "text": [
      "[10, 2, 8]\n"
     ]
    }
   ],
   "source": [
    "def even(n):\n",
    "    return n%2==0\n",
    "\n",
    "a = [10, 13, 2, 3, 8, 9, 17]\n",
    "b = list(filter(even, a)) # 중요\n",
    "print(b)"
   ]
  },
  {
   "cell_type": "code",
   "execution_count": 45,
   "id": "a45c1bea",
   "metadata": {},
   "outputs": [
    {
     "name": "stdout",
     "output_type": "stream",
     "text": [
      "[10, 2, 8]\n"
     ]
    }
   ],
   "source": [
    "a = [10, 13, 2, 3, 8, 9, 17]\n",
    "b = list(filter(lambda n:n%2==0, a)) # 중요\n",
    "print(b)"
   ]
  },
  {
   "cell_type": "code",
   "execution_count": 46,
   "id": "283fc63c",
   "metadata": {},
   "outputs": [
    {
     "name": "stdout",
     "output_type": "stream",
     "text": [
      "[True, False, True, False, True, False, False]\n"
     ]
    }
   ],
   "source": [
    "a = [10, 13, 2, 3, 8, 9, 17]\n",
    "b = list(map(lambda n:n%2==0, a)) # 중요\n",
    "print(b)"
   ]
  },
  {
   "cell_type": "code",
   "execution_count": 49,
   "id": "c6519226",
   "metadata": {},
   "outputs": [
    {
     "name": "stdout",
     "output_type": "stream",
     "text": [
      "[100, 169, 4, 9, 64, 81, 289]\n"
     ]
    }
   ],
   "source": [
    "a = [10, 13, 2, 3, 8, 9, 17]\n",
    "b = list(map(lambda n:n**2, a)) # 중요\n",
    "print(b)"
   ]
  },
  {
   "cell_type": "code",
   "execution_count": 52,
   "id": "a369d944",
   "metadata": {},
   "outputs": [
    {
     "name": "stdout",
     "output_type": "stream",
     "text": [
      "15\n"
     ]
    }
   ],
   "source": [
    "import functools\n",
    "\n",
    "a = [1, 2, 3, 4, 5]\n",
    "b = functools.reduce(lambda x,y:x+y, a)\n",
    "print(b)"
   ]
  },
  {
   "cell_type": "markdown",
   "id": "20c2e759",
   "metadata": {},
   "source": [
    "[process details]<br>\n",
    "(1) 1 and 2 are summed by the lambda function\n",
    "-> [3,3,4,5]<br>\n",
    "(2) 3 and 3 become 6\n",
    "-> [6,4,5]<br>\n",
    "(3) 6 and 4 become 10\n",
    "-> [10,5]<br>\n",
    "(4) 10 and 5 become 15"
   ]
  },
  {
   "cell_type": "code",
   "execution_count": 9,
   "id": "6e329cf7",
   "metadata": {},
   "outputs": [
    {
     "name": "stdout",
     "output_type": "stream",
     "text": [
      "49.5\n"
     ]
    }
   ],
   "source": [
    "def mean(nums):\n",
    "    _sum = 0\n",
    "    for i in nums:\n",
    "        _sum += i\n",
    "    return(_sum/len(nums))\n",
    "\n",
    "a = range(100)\n",
    "b = mean(a)\n",
    "print(b)"
   ]
  },
  {
   "cell_type": "code",
   "execution_count": 2,
   "id": "c228f9da",
   "metadata": {
    "scrolled": true
   },
   "outputs": [
    {
     "name": "stdout",
     "output_type": "stream",
     "text": [
      "True\n",
      "False\n",
      "True\n"
     ]
    }
   ],
   "source": [
    "def is_prime(num):\n",
    "    for i in range(2, num):\n",
    "        if num % i == 0:\n",
    "            return(False)\n",
    "    return(True)\n",
    "\n",
    "print(is_prime(5))\n",
    "print(is_prime(25))\n",
    "print(is_prime(37))"
   ]
  },
  {
   "cell_type": "code",
   "execution_count": 19,
   "id": "7d7414a4",
   "metadata": {},
   "outputs": [
    {
     "name": "stdout",
     "output_type": "stream",
     "text": [
      "3\n",
      "4\n",
      "25\n"
     ]
    }
   ],
   "source": [
    "def num_prime(num): # 중요\n",
    "    count = 0\n",
    "    for i in range(2, num+1):\n",
    "        if is_prime(i):\n",
    "            count += 1\n",
    "    return(count)\n",
    "\n",
    "print(num_prime(5))\n",
    "print(num_prime(7))\n",
    "print(num_prime(100))"
   ]
  },
  {
   "cell_type": "markdown",
   "id": "f04c5165",
   "metadata": {},
   "source": [
    "# Module"
   ]
  },
  {
   "cell_type": "code",
   "execution_count": 20,
   "id": "be4352b0",
   "metadata": {},
   "outputs": [
    {
     "data": {
      "text/plain": [
       "'<!DOCTYPE html PUBLIC \"-//W3C//DTD XHTML 1.0 Transitional//EN\" \"http://www.w3.org/TR/xhtml1/DTD/xhtml1-transitional.dtd\">\\n<html xmlns=\"http://www.w3.org/1999/xhtml\">\\n<head>\\n<meta http-equiv=\"X-UA-Compatible\" content=\"IE=10, chrome=1\">\\n<meta http-equiv=\"content-type\" content=\"text/html; charset=euc-kr\">\\n<TITLE>충북대학교 전자정보대학 정보통신공학부</TITLE>\\n</head>\\n<frameset rows=\"0%, 1*\" border=\"0\">\\n<frame src=\"noframe.php\" noresize scrolling=\"no\" marginwidth=\"0\" marginheight=\"0\" name=\"noframe\">\\n<frame src=\"index.php\" name=\"main\">\\n<noframes>\\n<body bgcolor=\"white\" text=\"black\" link=\"blue\" vlink=\"purple\" alink=\"red\">\\n이 페이지를 보려면, 프레임을 볼 수 있는 브라우저가 필요합니다.\\n</body>\\n</noframes>\\n</frameset>\\n</html>\\n'"
      ]
     },
     "execution_count": 20,
     "metadata": {},
     "output_type": "execute_result"
    }
   ],
   "source": [
    "import requests\n",
    "resp = requests.get(\"http://inform.cbnu.ac.kr\")\n",
    "resp.text"
   ]
  },
  {
   "cell_type": "code",
   "execution_count": 21,
   "id": "ce25e533",
   "metadata": {},
   "outputs": [
    {
     "ename": "NameError",
     "evalue": "name 'sin' is not defined",
     "output_type": "error",
     "traceback": [
      "\u001b[1;31m---------------------------------------------------------------------------\u001b[0m",
      "\u001b[1;31mNameError\u001b[0m                                 Traceback (most recent call last)",
      "Cell \u001b[1;32mIn[21], line 1\u001b[0m\n\u001b[1;32m----> 1\u001b[0m \u001b[43msin\u001b[49m(\u001b[38;5;241m100\u001b[39m)\n",
      "\u001b[1;31mNameError\u001b[0m: name 'sin' is not defined"
     ]
    }
   ],
   "source": [
    "sin(100)"
   ]
  },
  {
   "cell_type": "code",
   "execution_count": 22,
   "id": "a40f9a8a",
   "metadata": {},
   "outputs": [
    {
     "data": {
      "text/plain": [
       "-0.5063656411097588"
      ]
     },
     "execution_count": 22,
     "metadata": {},
     "output_type": "execute_result"
    }
   ],
   "source": [
    "import math\n",
    "math.sin(100)"
   ]
  },
  {
   "cell_type": "code",
   "execution_count": 23,
   "id": "188d07d3",
   "metadata": {},
   "outputs": [
    {
     "data": {
      "text/plain": [
       "-0.5063656411097588"
      ]
     },
     "execution_count": 23,
     "metadata": {},
     "output_type": "execute_result"
    }
   ],
   "source": [
    "from math import sin\n",
    "sin(100)"
   ]
  },
  {
   "cell_type": "code",
   "execution_count": 24,
   "id": "9cc617d7",
   "metadata": {
    "scrolled": true
   },
   "outputs": [
    {
     "name": "stdout",
     "output_type": "stream",
     "text": [
      "-0.5063656411097588\n",
      "3.141592653589793\n",
      "0.8623188722876839\n",
      "2.718281828459045\n"
     ]
    }
   ],
   "source": [
    "from math import *\n",
    "print(sin(100))\n",
    "print(pi)\n",
    "print(cos(100))\n",
    "print(e)"
   ]
  },
  {
   "cell_type": "code",
   "execution_count": 28,
   "id": "fd714e35",
   "metadata": {},
   "outputs": [
    {
     "name": "stdout",
     "output_type": "stream",
     "text": [
      "0.8623188722876839\n",
      "-0.5063656411097588\n",
      "3.141592653589793\n"
     ]
    }
   ],
   "source": [
    "import math as m\n",
    "print(m.cos(100))\n",
    "print(m.sin(100))\n",
    "print(m.pi)"
   ]
  },
  {
   "cell_type": "code",
   "execution_count": null,
   "id": "af1f5953",
   "metadata": {},
   "outputs": [],
   "source": []
  }
 ],
 "metadata": {
  "kernelspec": {
   "display_name": "Python 3 (ipykernel)",
   "language": "python",
   "name": "python3"
  },
  "language_info": {
   "codemirror_mode": {
    "name": "ipython",
    "version": 3
   },
   "file_extension": ".py",
   "mimetype": "text/x-python",
   "name": "python",
   "nbconvert_exporter": "python",
   "pygments_lexer": "ipython3",
   "version": "3.9.16"
  }
 },
 "nbformat": 4,
 "nbformat_minor": 5
}
